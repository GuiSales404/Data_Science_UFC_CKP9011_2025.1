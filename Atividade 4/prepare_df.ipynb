{
 "cells": [
  {
   "cell_type": "code",
   "execution_count": 15,
   "id": "bc5a10ee",
   "metadata": {},
   "outputs": [],
   "source": [
    "# !pip install pandas sqlalchemy psycopg2"
   ]
  },
  {
   "cell_type": "markdown",
   "id": "4ada4d35",
   "metadata": {},
   "source": [
    "## Link para o vídeo: https://youtu.be/j2IC7HLzn6s"
   ]
  },
  {
   "cell_type": "code",
   "execution_count": null,
   "id": "9b50f904",
   "metadata": {},
   "outputs": [],
   "source": [
    "import pandas as pd\n",
    "# from sqlalchemy import create_engine"
   ]
  },
  {
   "cell_type": "markdown",
   "id": "689be7a8",
   "metadata": {},
   "source": [
    "### a) Ler o Dataset"
   ]
  },
  {
   "cell_type": "code",
   "execution_count": 3,
   "id": "70c11ccc",
   "metadata": {},
   "outputs": [],
   "source": [
    "df = pd.read_csv('../data/fakeTelegram.BR_2022.csv')"
   ]
  },
  {
   "cell_type": "markdown",
   "id": "fe6ab659",
   "metadata": {},
   "source": [
    "### b) Remova os trava-zaps."
   ]
  },
  {
   "cell_type": "code",
   "execution_count": 4,
   "id": "cbefbdfa",
   "metadata": {},
   "outputs": [
    {
     "data": {
      "text/plain": [
       "557586"
      ]
     },
     "execution_count": 4,
     "metadata": {},
     "output_type": "execute_result"
    }
   ],
   "source": [
    "len(df.index)"
   ]
  },
  {
   "cell_type": "code",
   "execution_count": 5,
   "id": "1f159e86",
   "metadata": {},
   "outputs": [],
   "source": [
    "df = df.loc[df['trava_zap'] == False]"
   ]
  },
  {
   "cell_type": "code",
   "execution_count": 6,
   "id": "96f63d7c",
   "metadata": {},
   "outputs": [
    {
     "data": {
      "text/plain": [
       "557570"
      ]
     },
     "execution_count": 6,
     "metadata": {},
     "output_type": "execute_result"
    }
   ],
   "source": [
    "len(df.index)"
   ]
  },
  {
   "cell_type": "markdown",
   "id": "335fa477",
   "metadata": {},
   "source": [
    "### c) Remover as linhas repetidas (duplicadas)."
   ]
  },
  {
   "cell_type": "code",
   "execution_count": 7,
   "id": "2d98944f",
   "metadata": {},
   "outputs": [],
   "source": [
    "df.drop_duplicates(inplace=True)"
   ]
  },
  {
   "cell_type": "code",
   "execution_count": 8,
   "id": "8a228ef2",
   "metadata": {},
   "outputs": [
    {
     "data": {
      "text/plain": [
       "557570"
      ]
     },
     "execution_count": 8,
     "metadata": {},
     "output_type": "execute_result"
    }
   ],
   "source": [
    "len(df.index)"
   ]
  },
  {
   "cell_type": "code",
   "execution_count": 9,
   "id": "e830d16f",
   "metadata": {},
   "outputs": [
    {
     "data": {
      "text/plain": [
       "557570"
      ]
     },
     "execution_count": 9,
     "metadata": {},
     "output_type": "execute_result"
    }
   ],
   "source": [
    "df_teste = df.drop_duplicates(subset=[col for col in df.columns if col != 'data_system' or col != 'date_message' or col!='text_content_anonymous'])\n",
    "len(df_teste.index)"
   ]
  },
  {
   "cell_type": "markdown",
   "id": "788506a4",
   "metadata": {},
   "source": [
    "### d) Remover textos com menos de 5 palavras."
   ]
  },
  {
   "cell_type": "code",
   "execution_count": 10,
   "id": "8019b4de",
   "metadata": {},
   "outputs": [],
   "source": [
    "df = df.loc[df['text_content_anonymous'].isna() == False]\n",
    "df.reset_index(inplace=True, drop=True)"
   ]
  },
  {
   "cell_type": "code",
   "execution_count": 11,
   "id": "844c6645",
   "metadata": {},
   "outputs": [
    {
     "data": {
      "text/plain": [
       "444201"
      ]
     },
     "execution_count": 11,
     "metadata": {},
     "output_type": "execute_result"
    }
   ],
   "source": [
    "len(df.index)"
   ]
  },
  {
   "cell_type": "code",
   "execution_count": 12,
   "id": "b463888d",
   "metadata": {},
   "outputs": [],
   "source": [
    "df.drop([i for i, s in enumerate(df['text_content_anonymous'].values.tolist()) if len(s.split()) < 5 ], inplace=True)"
   ]
  },
  {
   "cell_type": "code",
   "execution_count": 13,
   "id": "20c5240a",
   "metadata": {},
   "outputs": [
    {
     "data": {
      "text/plain": [
       "339286"
      ]
     },
     "execution_count": 13,
     "metadata": {},
     "output_type": "execute_result"
    }
   ],
   "source": [
    "len(df.index)"
   ]
  },
  {
   "cell_type": "markdown",
   "id": "469d1aef",
   "metadata": {},
   "source": [
    "Adicionando coluna com quantidade de palavras"
   ]
  },
  {
   "cell_type": "code",
   "execution_count": 14,
   "id": "ef2b35c0",
   "metadata": {},
   "outputs": [],
   "source": [
    "df['word_count'] = df['text_content_anonymous'].str.split().str.len()"
   ]
  },
  {
   "cell_type": "code",
   "execution_count": 25,
   "id": "7e05dede",
   "metadata": {},
   "outputs": [],
   "source": [
    "df.to_csv('../data/df_tratado.csv', index=False)"
   ]
  },
  {
   "cell_type": "markdown",
   "id": "ac709d1a",
   "metadata": {},
   "source": [
    "### Verificação de tipos para criar tabela"
   ]
  },
  {
   "cell_type": "code",
   "execution_count": 24,
   "id": "941fde36",
   "metadata": {},
   "outputs": [
    {
     "name": "stdout",
     "output_type": "stream",
     "text": [
      "<class 'pandas.core.frame.DataFrame'>\n",
      "Index: 339286 entries, 0 to 444200\n",
      "Data columns (total 20 columns):\n",
      " #   Column                  Non-Null Count   Dtype  \n",
      "---  ------                  --------------   -----  \n",
      " 0   date_message            339286 non-null  object \n",
      " 1   id_member_anonymous     142880 non-null  object \n",
      " 2   id_group_anonymous      339286 non-null  object \n",
      " 3   media                   126431 non-null  object \n",
      " 4   media_type              126431 non-null  object \n",
      " 5   media_url               82936 non-null   object \n",
      " 6   has_media               339286 non-null  bool   \n",
      " 7   has_media_url           339286 non-null  bool   \n",
      " 8   trava_zap               339286 non-null  bool   \n",
      " 9   text_content_anonymous  339286 non-null  object \n",
      " 10  dataset_info_id         339286 non-null  int64  \n",
      " 11  date_system             339286 non-null  object \n",
      " 12  score_sentiment         339239 non-null  float64\n",
      " 13  score_misinformation    167224 non-null  float64\n",
      " 14  id_message              339286 non-null  int64  \n",
      " 15  message_type            339286 non-null  object \n",
      " 16  messenger               339286 non-null  object \n",
      " 17  media_name              6625 non-null    object \n",
      " 18  media_md5               126431 non-null  object \n",
      " 19  word_count              339286 non-null  int64  \n",
      "dtypes: bool(3), float64(2), int64(3), object(12)\n",
      "memory usage: 47.6+ MB\n"
     ]
    }
   ],
   "source": [
    "df.info()"
   ]
  },
  {
   "cell_type": "markdown",
   "id": "dbaa2d34",
   "metadata": {},
   "source": [
    "```\n",
    "CREATE TABLE fake_telegram (\n",
    "    date_message TEXT,\n",
    "    id_member_anonymous TEXT,\n",
    "    id_group_anonymous TEXT,\n",
    "    media TEXT,\n",
    "    media_type TEXT,\n",
    "    media_url TEXT,\n",
    "    has_media BOOLEAN,\n",
    "    has_media_url BOOLEAN,\n",
    "    trava_zap BOOLEAN,\n",
    "    text_content_anonymous TEXT,\n",
    "    dataset_info_id BIGINT,\n",
    "    date_system TEXT,\n",
    "    score_sentiment DOUBLE PRECISION,\n",
    "    score_misinformation DOUBLE PRECISION,\n",
    "    id_message BIGINT,\n",
    "    message_type TEXT,\n",
    "    messenger TEXT,\n",
    "    media_name TEXT,\n",
    "    media_md5 TEXT,\n",
    "    word_count BIGINT\n",
    ");\n",
    "```"
   ]
  },
  {
   "cell_type": "markdown",
   "id": "0d7ae473",
   "metadata": {},
   "source": []
  }
 ],
 "metadata": {
  "kernelspec": {
   "display_name": "ds_ufc",
   "language": "python",
   "name": "python3"
  },
  "language_info": {
   "codemirror_mode": {
    "name": "ipython",
    "version": 3
   },
   "file_extension": ".py",
   "mimetype": "text/x-python",
   "name": "python",
   "nbconvert_exporter": "python",
   "pygments_lexer": "ipython3",
   "version": "3.13.2"
  }
 },
 "nbformat": 4,
 "nbformat_minor": 5
}
